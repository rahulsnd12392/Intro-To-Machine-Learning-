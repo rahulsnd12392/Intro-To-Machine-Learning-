{
  "nbformat": 4,
  "nbformat_minor": 5,
  "metadata": {
    "kernelspec": {
      "display_name": "Python 3",
      "language": "python",
      "name": "python3"
    },
    "language_info": {
      "codemirror_mode": {
        "name": "ipython",
        "version": 3
      },
      "file_extension": ".py",
      "mimetype": "text/x-python",
      "name": "python",
      "nbconvert_exporter": "python",
      "pygments_lexer": "ipython3",
      "version": "3.8.5"
    },
    "colab": {
      "name": "main.ipynb",
      "provenance": []
    }
  },
  "cells": [
    {
      "cell_type": "markdown",
      "metadata": {
        "id": "canadian-philadelphia"
      },
      "source": [
        "#### For this Assignment you have been given a data which is a subset of a bigger dataset which was collected by Buffalo Tax department. It contains information regarding the various properties in Buffalo.\n",
        "\n",
        "Number of Instances: 92508\n",
        "\n",
        "Number of Attributes: 16 (including the target variable)\n",
        "\n",
        "Attribute Information:\n",
        "\n",
        "| Column Name                | Description                                                                                                                                      | Type        |\n",
        "|----------------------------|--------------------------------------------------------------------------------------------------------------------------------------------------|-------------|\n",
        "| TOTAL VALUE                | The combined assessed value of the land and improvements on the parcel                                                                           | Number      |\n",
        "| FRONT                      | The width of the front of property (in feet)                                                                                                     | Number      |\n",
        "| DEPTH                      | The depth of the property (in feet)                                                                                                              | Number      |\n",
        "| PROPERTY CLASS             | Property Type Classification Codes describe the primary use of each parcel of real property on the assessment roll                               | Number      |\n",
        "| LAND VALUE                 | The assessed value of the land                                                                                                                   | Number      |\n",
        "| SALE PRICE                 | The price that the parcel of real property was last sold for                                                                                     | Number      |\n",
        "| YEAR BUILT                 | The year the primary building on the parcel was built                                                                                            | Number      |\n",
        "| TOTAL LIVING AREA          | The amount of living space (in square feet)                                                                                                      | Number      |\n",
        "| OVERALL CONDITION          | A grade of the condition of the property                                                                                                         | Number      |\n",
        "| BUILDING STYLE             | A code for the style of building                                                                                                                 | Number      |\n",
        "| HEAT TYPE                  | The type of heating system in the building (only applicable to residential properties)                                                           | Number      |\n",
        "| BASEMENT TYPE              | The type of basement on the property (only applicable to residential properties)                                                                 | Number      |\n",
        "| # OF STORIES               | The number of floors/Stories in the property                                                                                                     | Number      |\n",
        "| # OF FIREPLACES            | The number of fireplaces in a dwelling (only applicable to residential properties)                                                               | Number      |\n",
        "| # OF BEDS                  | The number of beds in a dwelling (only applicable to residential properties)                                                                     | Number      |\n",
        "| # OF BATHS                 | The number of baths in a dwelling (only applicable to residential properties)                                                                    | Number      |\n",
        "| # OF KITCHENS              | The number of kitchens in a dwelling (only applicable to residential properties)                                                                 | Number      |\n",
        "\n",
        "\n",
        "\n",
        "There are no missing Attribute Values.\n",
        "\n",
        "Your task is to implement a Linear Regression Model to predict the TOTAL VALUE of a property"
      ],
      "id": "canadian-philadelphia"
    },
    {
      "cell_type": "code",
      "metadata": {
        "id": "planned-perry"
      },
      "source": [
        "import pandas as pd\n",
        "import numpy as np\n",
        "from sklearn.model_selection import train_test_split\n",
        "import matplotlib.pyplot as plt\n",
        "\n",
        "%matplotlib inline"
      ],
      "id": "planned-perry",
      "execution_count": null,
      "outputs": []
    },
    {
      "cell_type": "markdown",
      "metadata": {
        "id": "traditional-tissue"
      },
      "source": [
        "#### STEP 1 - Load Data (Already Done)"
      ],
      "id": "traditional-tissue"
    },
    {
      "cell_type": "code",
      "metadata": {
        "id": "measured-report"
      },
      "source": [
        "df = pd.read_csv('data.csv', dtype=np.float64)"
      ],
      "id": "measured-report",
      "execution_count": null,
      "outputs": []
    },
    {
      "cell_type": "code",
      "metadata": {
        "id": "preliminary-wireless"
      },
      "source": [
        "y = np.asarray(df['TOTAL VALUE'] )\n",
        "y = y.reshape(y.shape[0],1)\n",
        "feature_cols = df.columns.to_list()\n",
        "feature_cols.remove('TOTAL VALUE')\n",
        "x = np.asarray(df[feature_cols])"
      ],
      "id": "preliminary-wireless",
      "execution_count": null,
      "outputs": []
    },
    {
      "cell_type": "markdown",
      "metadata": {
        "id": "available-picnic"
      },
      "source": [
        "Variable **y** contains the total values of the property\n",
        "\n",
        "Variable **x** contains the features"
      ],
      "id": "available-picnic"
    },
    {
      "cell_type": "markdown",
      "metadata": {
        "id": "twelve-skill"
      },
      "source": [
        "#### STEP 2 - Split the Data into training and testing and validation split ( 70% Training, 20% Testing and 10% validation) ( Hint: you can use the sklearn library for this step only) ( 5 Points)"
      ],
      "id": "twelve-skill"
    },
    {
      "cell_type": "code",
      "metadata": {
        "id": "downtown-antarctica"
      },
      "source": [
        "#STEP 2"
      ],
      "id": "downtown-antarctica",
      "execution_count": null,
      "outputs": []
    },
    {
      "cell_type": "markdown",
      "metadata": {
        "id": "theoretical-allergy"
      },
      "source": [
        "#### STEP 3 - Scale Data Using Min Max Scaler (10 Points)\n",
        "For each feature scaled value can be calculated using $  x_{scaled} = \\frac{x - min(x)}{max(x) - min(x)}$\n"
      ],
      "id": "theoretical-allergy"
    },
    {
      "cell_type": "code",
      "metadata": {
        "id": "civilian-lounge"
      },
      "source": [
        "#STEP 3"
      ],
      "id": "civilian-lounge",
      "execution_count": null,
      "outputs": []
    },
    {
      "cell_type": "markdown",
      "metadata": {
        "id": "prostate-disney"
      },
      "source": [
        "#### STEP 4 - Initialize values for the weights, No. of Epochs and Learning Rate (5 Points)"
      ],
      "id": "prostate-disney"
    },
    {
      "cell_type": "code",
      "metadata": {
        "id": "absolute-associate"
      },
      "source": [
        "#STEP 4\n"
      ],
      "id": "absolute-associate",
      "execution_count": null,
      "outputs": []
    },
    {
      "cell_type": "markdown",
      "metadata": {
        "id": "moved-parking"
      },
      "source": [
        "#### STEP 5 - Train Linear Regression Model (40 Points)\n",
        " 5.1 Start a Loop For each Epoch\n",
        " \n",
        " 5.2 Find the predicted value using $ y(x,w) = w_0 + w_1x $ for the training and validation splits (10 Points)\n",
        " \n",
        " 5.3 Find the Loss using Mean Squared Error for the training and validation splits and store in a list (10 Points)\n",
        " \n",
        " 5.4 Calculate the Gradients (15 Points)\n",
        " \n",
        " 5.5 Update the weights using the gradients (5 Points)"
      ],
      "id": "moved-parking"
    },
    {
      "cell_type": "code",
      "metadata": {
        "id": "alleged-diary"
      },
      "source": [
        "# STEP 5\n"
      ],
      "id": "alleged-diary",
      "execution_count": null,
      "outputs": []
    },
    {
      "cell_type": "markdown",
      "metadata": {
        "id": "fuzzy-prairie"
      },
      "source": [
        "#### STEP 6 - Evaluate the Model ( 25 Points)\n",
        "6.1 Plot a graph of the Training and Validation Loss wrt epochs (10 Points)\n",
        "\n",
        "6.2 Find the R2 Score of the trained model for the Train, Test and Validation splits (15 Points)"
      ],
      "id": "fuzzy-prairie"
    },
    {
      "cell_type": "code",
      "metadata": {
        "id": "outstanding-jewel"
      },
      "source": [
        "# STEP 6\n"
      ],
      "id": "outstanding-jewel",
      "execution_count": null,
      "outputs": []
    }
  ]
}